{
  "nbformat": 4,
  "nbformat_minor": 0,
  "metadata": {
    "colab": {
      "name": "DesafioUpnid.ipynb",
      "provenance": [],
      "collapsed_sections": [],
      "authorship_tag": "ABX9TyPTJWFrzaWnt2v0uqlH2OMr",
      "include_colab_link": true
    },
    "kernelspec": {
      "name": "python3",
      "display_name": "Python 3"
    }
  },
  "cells": [
    {
      "cell_type": "markdown",
      "metadata": {
        "id": "view-in-github",
        "colab_type": "text"
      },
      "source": [
        "<a href=\"https://colab.research.google.com/github/JoaoDaross/DesafioUpnid/blob/main/DesafioUpnid.ipynb\" target=\"_parent\"><img src=\"https://colab.research.google.com/assets/colab-badge.svg\" alt=\"Open In Colab\"/></a>"
      ]
    },
    {
      "cell_type": "code",
      "metadata": {
        "id": "Nb3fCybGjRrT"
      },
      "source": [
        "import numpy as np\n",
        "import pandas as pd\n",
        "\n",
        "account_balances = pd.read_csv(\"account_balances.csv\")\n",
        "accounts = pd.read_csv(\"accounts.csv\")\n",
        "bank_transfers = pd.read_csv(\"bank_transfers.csv\")\n",
        "customers = pd.read_csv(\"customers.csv\")\n",
        "payments = pd.read_csv(\"payments.csv\")"
      ],
      "execution_count": null,
      "outputs": []
    },
    {
      "cell_type": "markdown",
      "metadata": {
        "id": "Y4uVf6hkko23"
      },
      "source": [
        "## Visualizando as tabelas e manipulando os dados"
      ]
    },
    {
      "cell_type": "code",
      "metadata": {
        "id": "t-f-uKC1kijb",
        "outputId": "2f0368df-5770-4988-ce33-721404a25ec1",
        "colab": {
          "base_uri": "https://localhost:8080/",
          "height": 204
        }
      },
      "source": [
        "payments.head()"
      ],
      "execution_count": null,
      "outputs": [
        {
          "output_type": "execute_result",
          "data": {
            "text/html": [
              "<div>\n",
              "<style scoped>\n",
              "    .dataframe tbody tr th:only-of-type {\n",
              "        vertical-align: middle;\n",
              "    }\n",
              "\n",
              "    .dataframe tbody tr th {\n",
              "        vertical-align: top;\n",
              "    }\n",
              "\n",
              "    .dataframe thead th {\n",
              "        text-align: right;\n",
              "    }\n",
              "</style>\n",
              "<table border=\"1\" class=\"dataframe\">\n",
              "  <thead>\n",
              "    <tr style=\"text-align: right;\">\n",
              "      <th></th>\n",
              "      <th>_id</th>\n",
              "      <th>account_id</th>\n",
              "      <th>paid_at</th>\n",
              "      <th>amount_paid</th>\n",
              "      <th>marketplace_fee</th>\n",
              "      <th>ip_location</th>\n",
              "      <th>customer_id</th>\n",
              "    </tr>\n",
              "  </thead>\n",
              "  <tbody>\n",
              "    <tr>\n",
              "      <th>0</th>\n",
              "      <td>5f50dd204d48a59e845519fe</td>\n",
              "      <td>5f50e19a299538c596304d31</td>\n",
              "      <td>2020-02-07 09:55:00 UTC</td>\n",
              "      <td>2899.77</td>\n",
              "      <td>29.00</td>\n",
              "      <td>SP/BR</td>\n",
              "      <td>5f50dd201df56aef0d42f1e6</td>\n",
              "    </tr>\n",
              "    <tr>\n",
              "      <th>1</th>\n",
              "      <td>5f50dd201c9cf367e64803f8</td>\n",
              "      <td>5f50e19a299538c596304d31</td>\n",
              "      <td>2020-08-23 06:18:00 UTC</td>\n",
              "      <td>1676.89</td>\n",
              "      <td>16.77</td>\n",
              "      <td>SP/BR</td>\n",
              "      <td>5f50dd20daf722fb0fc25a5d</td>\n",
              "    </tr>\n",
              "    <tr>\n",
              "      <th>2</th>\n",
              "      <td>5f50dd204f7299059f441c58</td>\n",
              "      <td>5f50e19a299538c596304d31</td>\n",
              "      <td>2020-03-28 12:17:00 UTC</td>\n",
              "      <td>838.45</td>\n",
              "      <td>8.38</td>\n",
              "      <td>SP/BR</td>\n",
              "      <td>5f50dd20a96a43441cdfdaa0</td>\n",
              "    </tr>\n",
              "    <tr>\n",
              "      <th>3</th>\n",
              "      <td>5f50dd20a18128c90922d868</td>\n",
              "      <td>5f50e19a299538c596304d31</td>\n",
              "      <td>2020-09-02 12:13:00 UTC</td>\n",
              "      <td>887.39</td>\n",
              "      <td>8.87</td>\n",
              "      <td>SP/BR</td>\n",
              "      <td>5f50dd20981542a0cd0495fd</td>\n",
              "    </tr>\n",
              "    <tr>\n",
              "      <th>4</th>\n",
              "      <td>5f50dd205f44f510e938126c</td>\n",
              "      <td>5f50e19a299538c596304d31</td>\n",
              "      <td>2020-06-29 11:50:00 UTC</td>\n",
              "      <td>993.56</td>\n",
              "      <td>9.94</td>\n",
              "      <td>SP/BR</td>\n",
              "      <td>5f50dd201d455546b2fd0572</td>\n",
              "    </tr>\n",
              "  </tbody>\n",
              "</table>\n",
              "</div>"
            ],
            "text/plain": [
              "                        _id  ...               customer_id\n",
              "0  5f50dd204d48a59e845519fe  ...  5f50dd201df56aef0d42f1e6\n",
              "1  5f50dd201c9cf367e64803f8  ...  5f50dd20daf722fb0fc25a5d\n",
              "2  5f50dd204f7299059f441c58  ...  5f50dd20a96a43441cdfdaa0\n",
              "3  5f50dd20a18128c90922d868  ...  5f50dd20981542a0cd0495fd\n",
              "4  5f50dd205f44f510e938126c  ...  5f50dd201d455546b2fd0572\n",
              "\n",
              "[5 rows x 7 columns]"
            ]
          },
          "metadata": {
            "tags": []
          },
          "execution_count": 103
        }
      ]
    },
    {
      "cell_type": "code",
      "metadata": {
        "id": "Ceh2qe7klL_Q",
        "outputId": "ca05a809-f5a4-4558-d413-9212c08bc219",
        "colab": {
          "base_uri": "https://localhost:8080/",
          "height": 297
        }
      },
      "source": [
        "payments.describe()"
      ],
      "execution_count": null,
      "outputs": [
        {
          "output_type": "execute_result",
          "data": {
            "text/html": [
              "<div>\n",
              "<style scoped>\n",
              "    .dataframe tbody tr th:only-of-type {\n",
              "        vertical-align: middle;\n",
              "    }\n",
              "\n",
              "    .dataframe tbody tr th {\n",
              "        vertical-align: top;\n",
              "    }\n",
              "\n",
              "    .dataframe thead th {\n",
              "        text-align: right;\n",
              "    }\n",
              "</style>\n",
              "<table border=\"1\" class=\"dataframe\">\n",
              "  <thead>\n",
              "    <tr style=\"text-align: right;\">\n",
              "      <th></th>\n",
              "      <th>amount_paid</th>\n",
              "      <th>marketplace_fee</th>\n",
              "    </tr>\n",
              "  </thead>\n",
              "  <tbody>\n",
              "    <tr>\n",
              "      <th>count</th>\n",
              "      <td>230.000000</td>\n",
              "      <td>230.00000</td>\n",
              "    </tr>\n",
              "    <tr>\n",
              "      <th>mean</th>\n",
              "      <td>536.846783</td>\n",
              "      <td>17.44387</td>\n",
              "    </tr>\n",
              "    <tr>\n",
              "      <th>std</th>\n",
              "      <td>427.989456</td>\n",
              "      <td>23.88871</td>\n",
              "    </tr>\n",
              "    <tr>\n",
              "      <th>min</th>\n",
              "      <td>9.860000</td>\n",
              "      <td>0.06000</td>\n",
              "    </tr>\n",
              "    <tr>\n",
              "      <th>25%</th>\n",
              "      <td>189.292500</td>\n",
              "      <td>3.00000</td>\n",
              "    </tr>\n",
              "    <tr>\n",
              "      <th>50%</th>\n",
              "      <td>446.160000</td>\n",
              "      <td>7.23500</td>\n",
              "    </tr>\n",
              "    <tr>\n",
              "      <th>75%</th>\n",
              "      <td>784.632500</td>\n",
              "      <td>21.42750</td>\n",
              "    </tr>\n",
              "    <tr>\n",
              "      <th>max</th>\n",
              "      <td>2899.770000</td>\n",
              "      <td>111.42000</td>\n",
              "    </tr>\n",
              "  </tbody>\n",
              "</table>\n",
              "</div>"
            ],
            "text/plain": [
              "       amount_paid  marketplace_fee\n",
              "count   230.000000        230.00000\n",
              "mean    536.846783         17.44387\n",
              "std     427.989456         23.88871\n",
              "min       9.860000          0.06000\n",
              "25%     189.292500          3.00000\n",
              "50%     446.160000          7.23500\n",
              "75%     784.632500         21.42750\n",
              "max    2899.770000        111.42000"
            ]
          },
          "metadata": {
            "tags": []
          },
          "execution_count": 104
        }
      ]
    },
    {
      "cell_type": "code",
      "metadata": {
        "id": "HO6fyFatkk0H",
        "outputId": "20b15184-50bf-416d-9e3d-a33b2cf4ab7a",
        "colab": {
          "base_uri": "https://localhost:8080/",
          "height": 255
        }
      },
      "source": [
        "payments.info()"
      ],
      "execution_count": null,
      "outputs": [
        {
          "output_type": "stream",
          "text": [
            "<class 'pandas.core.frame.DataFrame'>\n",
            "RangeIndex: 230 entries, 0 to 229\n",
            "Data columns (total 7 columns):\n",
            " #   Column           Non-Null Count  Dtype  \n",
            "---  ------           --------------  -----  \n",
            " 0   _id              230 non-null    object \n",
            " 1   account_id       230 non-null    object \n",
            " 2   paid_at          230 non-null    object \n",
            " 3   amount_paid      230 non-null    float64\n",
            " 4   marketplace_fee  230 non-null    float64\n",
            " 5   ip_location      230 non-null    object \n",
            " 6   customer_id      230 non-null    object \n",
            "dtypes: float64(2), object(5)\n",
            "memory usage: 12.7+ KB\n"
          ],
          "name": "stdout"
        }
      ]
    },
    {
      "cell_type": "code",
      "metadata": {
        "id": "RPYN6BJwsw1b"
      },
      "source": [
        "payments.drop('_id', axis=1, inplace=True)\n",
        "payments.drop('customer_id', axis=1, inplace=True)"
      ],
      "execution_count": null,
      "outputs": []
    },
    {
      "cell_type": "code",
      "metadata": {
        "id": "zZS3S5otv-Nq"
      },
      "source": [
        "payments[['Data','Hora', 'Fuso']] = payments['paid_at'].str.split(' ', expand=True)\n",
        "\n",
        "payments.drop('paid_at', axis=1, inplace=True)\n",
        "payments.drop('Fuso', axis=1, inplace=True)\n",
        "payments['Data'] = payments['Data'].str.replace('-','')\n",
        "payments['Hora'] = payments['Hora'].str.replace(':','')\n",
        "payments['Data'] = payments['Data'].astype(int)\n",
        "payments['Hora'] = payments['Hora'].astype(int)\n",
        "payments['amount_paid'] = payments['amount_paid'].astype(int)\n",
        "payments['marketplace_fee'] = payments['marketplace_fee'].astype(int)"
      ],
      "execution_count": null,
      "outputs": []
    },
    {
      "cell_type": "code",
      "metadata": {
        "id": "Rn-dMxgTy1bb",
        "outputId": "44ac2a83-a55b-4f3c-858a-8ca169ed6481",
        "colab": {
          "base_uri": "https://localhost:8080/",
          "height": 204
        }
      },
      "source": [
        "payments.head()"
      ],
      "execution_count": null,
      "outputs": [
        {
          "output_type": "execute_result",
          "data": {
            "text/html": [
              "<div>\n",
              "<style scoped>\n",
              "    .dataframe tbody tr th:only-of-type {\n",
              "        vertical-align: middle;\n",
              "    }\n",
              "\n",
              "    .dataframe tbody tr th {\n",
              "        vertical-align: top;\n",
              "    }\n",
              "\n",
              "    .dataframe thead th {\n",
              "        text-align: right;\n",
              "    }\n",
              "</style>\n",
              "<table border=\"1\" class=\"dataframe\">\n",
              "  <thead>\n",
              "    <tr style=\"text-align: right;\">\n",
              "      <th></th>\n",
              "      <th>account_id</th>\n",
              "      <th>amount_paid</th>\n",
              "      <th>marketplace_fee</th>\n",
              "      <th>ip_location</th>\n",
              "      <th>Data</th>\n",
              "      <th>Hora</th>\n",
              "    </tr>\n",
              "  </thead>\n",
              "  <tbody>\n",
              "    <tr>\n",
              "      <th>0</th>\n",
              "      <td>5f50e19a299538c596304d31</td>\n",
              "      <td>2899</td>\n",
              "      <td>29</td>\n",
              "      <td>SP/BR</td>\n",
              "      <td>20200207</td>\n",
              "      <td>95500</td>\n",
              "    </tr>\n",
              "    <tr>\n",
              "      <th>1</th>\n",
              "      <td>5f50e19a299538c596304d31</td>\n",
              "      <td>1676</td>\n",
              "      <td>16</td>\n",
              "      <td>SP/BR</td>\n",
              "      <td>20200823</td>\n",
              "      <td>61800</td>\n",
              "    </tr>\n",
              "    <tr>\n",
              "      <th>2</th>\n",
              "      <td>5f50e19a299538c596304d31</td>\n",
              "      <td>838</td>\n",
              "      <td>8</td>\n",
              "      <td>SP/BR</td>\n",
              "      <td>20200328</td>\n",
              "      <td>121700</td>\n",
              "    </tr>\n",
              "    <tr>\n",
              "      <th>3</th>\n",
              "      <td>5f50e19a299538c596304d31</td>\n",
              "      <td>887</td>\n",
              "      <td>8</td>\n",
              "      <td>SP/BR</td>\n",
              "      <td>20200902</td>\n",
              "      <td>121300</td>\n",
              "    </tr>\n",
              "    <tr>\n",
              "      <th>4</th>\n",
              "      <td>5f50e19a299538c596304d31</td>\n",
              "      <td>993</td>\n",
              "      <td>9</td>\n",
              "      <td>SP/BR</td>\n",
              "      <td>20200629</td>\n",
              "      <td>115000</td>\n",
              "    </tr>\n",
              "  </tbody>\n",
              "</table>\n",
              "</div>"
            ],
            "text/plain": [
              "                 account_id  amount_paid  ...      Data    Hora\n",
              "0  5f50e19a299538c596304d31         2899  ...  20200207   95500\n",
              "1  5f50e19a299538c596304d31         1676  ...  20200823   61800\n",
              "2  5f50e19a299538c596304d31          838  ...  20200328  121700\n",
              "3  5f50e19a299538c596304d31          887  ...  20200902  121300\n",
              "4  5f50e19a299538c596304d31          993  ...  20200629  115000\n",
              "\n",
              "[5 rows x 6 columns]"
            ]
          },
          "metadata": {
            "tags": []
          },
          "execution_count": 108
        }
      ]
    },
    {
      "cell_type": "code",
      "metadata": {
        "id": "HwyQn6prx2b6"
      },
      "source": [
        "payments[\"ip_location\"].replace(\n",
        "    to_replace=['SP/BR'],\n",
        "    value=0,\n",
        "    inplace=True\n",
        ")\n",
        "\n",
        "payments[\"ip_location\"].replace(\n",
        "    to_replace=['SC/BR'],\n",
        "    value=1,\n",
        "    inplace=True\n",
        ")\n",
        "\n",
        "payments[\"ip_location\"].replace(\n",
        "    to_replace=['RS/BR'],\n",
        "    value=2,\n",
        "    inplace=True\n",
        ")\n",
        "\n",
        "payments[\"ip_location\"].replace(\n",
        "    to_replace=['MT/BR'],\n",
        "    value=3,\n",
        "    inplace=True\n",
        ")\n",
        "\n",
        "payments[\"ip_location\"].replace(\n",
        "    to_replace=['RJ/BR'],\n",
        "    value=4,\n",
        "    inplace=True\n",
        ")\n",
        "\n",
        "payments[\"ip_location\"].replace(\n",
        "    to_replace=['AC/BR'],\n",
        "    value=5,\n",
        "    inplace=True\n",
        ")\n",
        "\n",
        "payments[\"ip_location\"].replace(\n",
        "    to_replace=['BA/BR'],\n",
        "    value=6,\n",
        "    inplace=True\n",
        ")\n",
        "\n",
        "payments[\"ip_location\"].replace(\n",
        "    to_replace=['PR/BR'],\n",
        "    value=7,\n",
        "    inplace=True\n",
        ")"
      ],
      "execution_count": null,
      "outputs": []
    },
    {
      "cell_type": "code",
      "metadata": {
        "id": "5AwmlhG3xraU",
        "outputId": "8a1852f6-4088-4eb4-f0d4-815ba9315fc4",
        "colab": {
          "base_uri": "https://localhost:8080/",
          "height": 170
        }
      },
      "source": [
        "payments[\"ip_location\"].value_counts()"
      ],
      "execution_count": null,
      "outputs": [
        {
          "output_type": "execute_result",
          "data": {
            "text/plain": [
              "0    66\n",
              "1    45\n",
              "2    23\n",
              "3    22\n",
              "5    20\n",
              "4    20\n",
              "6    18\n",
              "7    16\n",
              "Name: ip_location, dtype: int64"
            ]
          },
          "metadata": {
            "tags": []
          },
          "execution_count": 110
        }
      ]
    },
    {
      "cell_type": "code",
      "metadata": {
        "id": "ZtPGcHy-tLve"
      },
      "source": [
        "payments[\"account_id\"].replace(\n",
        "    to_replace=['5f50e19a60ba4ea5c03c8c50'],\n",
        "    value=0,\n",
        "    inplace=True\n",
        ")"
      ],
      "execution_count": null,
      "outputs": []
    },
    {
      "cell_type": "code",
      "metadata": {
        "id": "0cUVffB2uNcj"
      },
      "source": [
        "payments[\"account_id\"].replace(\n",
        "    to_replace=['5f50e19a836e1cd15acb2fd7'],\n",
        "    value=1,\n",
        "    inplace=True\n",
        ")"
      ],
      "execution_count": null,
      "outputs": []
    },
    {
      "cell_type": "code",
      "metadata": {
        "id": "I6-kJPdSua4H"
      },
      "source": [
        "payments[\"account_id\"].replace(\n",
        "    to_replace=['5f50e19aaef534168542f82c'],\n",
        "    value=2,\n",
        "    inplace=True\n",
        ")"
      ],
      "execution_count": null,
      "outputs": []
    },
    {
      "cell_type": "code",
      "metadata": {
        "id": "qMq6eSaeu5kB"
      },
      "source": [
        "payments[\"account_id\"].replace(\n",
        "    to_replace=['5f50e19a413ccfef1bdd2143'],\n",
        "    value=3,\n",
        "    inplace=True\n",
        ")"
      ],
      "execution_count": null,
      "outputs": []
    },
    {
      "cell_type": "code",
      "metadata": {
        "id": "iBjChDZiu-Hf"
      },
      "source": [
        "payments[\"account_id\"].replace(\n",
        "    to_replace=['5f50e19a411bd6dd38f5a9d8'],\n",
        "    value=4,\n",
        "    inplace=True\n",
        ")"
      ],
      "execution_count": null,
      "outputs": []
    },
    {
      "cell_type": "code",
      "metadata": {
        "id": "_IX3W81wvAnx"
      },
      "source": [
        "payments[\"account_id\"].replace(\n",
        "    to_replace=['5f50e19a299538c596304d31'],\n",
        "    value=5,\n",
        "    inplace=True\n",
        ")"
      ],
      "execution_count": null,
      "outputs": []
    },
    {
      "cell_type": "code",
      "metadata": {
        "id": "64C5glv0vDCi"
      },
      "source": [
        "payments[\"account_id\"].replace(\n",
        "    to_replace=['5f50e19afb1971f2b473a181'],\n",
        "    value=6,\n",
        "    inplace=True\n",
        ")"
      ],
      "execution_count": null,
      "outputs": []
    },
    {
      "cell_type": "code",
      "metadata": {
        "id": "Jx3wfta4vFls"
      },
      "source": [
        "payments[\"account_id\"].replace(\n",
        "    to_replace=['5f50e19ad05c511af0a89fff'],\n",
        "    value=7,\n",
        "    inplace=True\n",
        ")"
      ],
      "execution_count": null,
      "outputs": []
    },
    {
      "cell_type": "code",
      "metadata": {
        "id": "4ADRrxIRvIWi"
      },
      "source": [
        "payments[\"account_id\"].replace(\n",
        "    to_replace=['5f50e19ab61a843cbaaf0d5a'],\n",
        "    value=8,\n",
        "    inplace=True\n",
        ")"
      ],
      "execution_count": null,
      "outputs": []
    },
    {
      "cell_type": "code",
      "metadata": {
        "id": "xdxzEsROvLCy"
      },
      "source": [
        "payments[\"account_id\"].replace(\n",
        "    to_replace=['5f50e19afd9e92e2ab3a0487'],\n",
        "    value=9,\n",
        "    inplace=True\n",
        ")"
      ],
      "execution_count": null,
      "outputs": []
    },
    {
      "cell_type": "code",
      "metadata": {
        "id": "HHCAW4kfvXm0",
        "outputId": "8557da8b-e093-4933-e243-8b1a4e283f21",
        "colab": {
          "base_uri": "https://localhost:8080/",
          "height": 204
        }
      },
      "source": [
        "payments[\"account_id\"].value_counts()"
      ],
      "execution_count": null,
      "outputs": [
        {
          "output_type": "execute_result",
          "data": {
            "text/plain": [
              "0    31\n",
              "1    27\n",
              "3    26\n",
              "2    26\n",
              "5    22\n",
              "4    22\n",
              "6    21\n",
              "7    20\n",
              "8    18\n",
              "9    17\n",
              "Name: account_id, dtype: int64"
            ]
          },
          "metadata": {
            "tags": []
          },
          "execution_count": 121
        }
      ]
    },
    {
      "cell_type": "markdown",
      "metadata": {
        "id": "M7s_NA8pmAVF"
      },
      "source": [
        "## Machine learning "
      ]
    },
    {
      "cell_type": "code",
      "metadata": {
        "id": "9AZsR8ADlhfc"
      },
      "source": [
        "# Separando as variáveis entre preditoras e alvo \n",
        "\n",
        "y = payments[\"amount_paid\"]\n",
        "x = payments.drop(\"amount_paid\", axis = 1)"
      ],
      "execution_count": null,
      "outputs": []
    },
    {
      "cell_type": "code",
      "metadata": {
        "id": "kzxOdq49m0VY"
      },
      "source": [
        "from sklearn.model_selection import train_test_split\n",
        "\n",
        "# criando os conjuntos de dados de treinos e testes\n",
        "\n",
        "x_treino, x_teste, y_treino, y_teste = train_test_split(x, y, test_size = 0.3)"
      ],
      "execution_count": null,
      "outputs": []
    },
    {
      "cell_type": "code",
      "metadata": {
        "id": "TU-SOzuqm2Er",
        "outputId": "32d0f53a-53b3-458a-ac21-8f3915034677",
        "colab": {
          "base_uri": "https://localhost:8080/",
          "height": 34
        }
      },
      "source": [
        "from sklearn.ensemble import ExtraTreesClassifier\n",
        "\n",
        "# criação do modelo:\n",
        "modelo = ExtraTreesClassifier()\n",
        "modelo.fit(x_treino,y_treino)\n",
        "\n",
        "#Imprimindo REsultado:\n",
        "Resultado = modelo.score(x_teste, y_teste)\n",
        "print(\"Acurácia\", Resultado)"
      ],
      "execution_count": null,
      "outputs": [
        {
          "output_type": "stream",
          "text": [
            "Acurácia 0.13043478260869565\n"
          ],
          "name": "stdout"
        }
      ]
    },
    {
      "cell_type": "code",
      "metadata": {
        "id": "2Mxmzx9jomsr",
        "outputId": "5aba6c15-dac0-4297-9167-6502673f1984",
        "colab": {
          "base_uri": "https://localhost:8080/",
          "height": 221
        }
      },
      "source": [
        "y_teste[1:229]"
      ],
      "execution_count": null,
      "outputs": [
        {
          "output_type": "execute_result",
          "data": {
            "text/plain": [
              "116    160\n",
              "85     219\n",
              "208    540\n",
              "25     678\n",
              "65     970\n",
              "      ... \n",
              "191    628\n",
              "209    510\n",
              "203    290\n",
              "118     86\n",
              "174    948\n",
              "Name: amount_paid, Length: 68, dtype: int64"
            ]
          },
          "metadata": {
            "tags": []
          },
          "execution_count": 125
        }
      ]
    },
    {
      "cell_type": "code",
      "metadata": {
        "id": "4T5nhE-3rLlp",
        "outputId": "4af35f57-1227-45e9-f336-df3b607c19c0",
        "colab": {
          "base_uri": "https://localhost:8080/",
          "height": 419
        }
      },
      "source": [
        "x_teste[1:229]"
      ],
      "execution_count": null,
      "outputs": [
        {
          "output_type": "execute_result",
          "data": {
            "text/html": [
              "<div>\n",
              "<style scoped>\n",
              "    .dataframe tbody tr th:only-of-type {\n",
              "        vertical-align: middle;\n",
              "    }\n",
              "\n",
              "    .dataframe tbody tr th {\n",
              "        vertical-align: top;\n",
              "    }\n",
              "\n",
              "    .dataframe thead th {\n",
              "        text-align: right;\n",
              "    }\n",
              "</style>\n",
              "<table border=\"1\" class=\"dataframe\">\n",
              "  <thead>\n",
              "    <tr style=\"text-align: right;\">\n",
              "      <th></th>\n",
              "      <th>account_id</th>\n",
              "      <th>marketplace_fee</th>\n",
              "      <th>ip_location</th>\n",
              "      <th>Data</th>\n",
              "      <th>Hora</th>\n",
              "    </tr>\n",
              "  </thead>\n",
              "  <tbody>\n",
              "    <tr>\n",
              "      <th>116</th>\n",
              "      <td>1</td>\n",
              "      <td>1</td>\n",
              "      <td>2</td>\n",
              "      <td>20201215</td>\n",
              "      <td>115400</td>\n",
              "    </tr>\n",
              "    <tr>\n",
              "      <th>85</th>\n",
              "      <td>0</td>\n",
              "      <td>15</td>\n",
              "      <td>2</td>\n",
              "      <td>20200126</td>\n",
              "      <td>30700</td>\n",
              "    </tr>\n",
              "    <tr>\n",
              "      <th>208</th>\n",
              "      <td>6</td>\n",
              "      <td>5</td>\n",
              "      <td>1</td>\n",
              "      <td>20200119</td>\n",
              "      <td>120600</td>\n",
              "    </tr>\n",
              "    <tr>\n",
              "      <th>25</th>\n",
              "      <td>4</td>\n",
              "      <td>6</td>\n",
              "      <td>0</td>\n",
              "      <td>20190228</td>\n",
              "      <td>21900</td>\n",
              "    </tr>\n",
              "    <tr>\n",
              "      <th>65</th>\n",
              "      <td>3</td>\n",
              "      <td>48</td>\n",
              "      <td>1</td>\n",
              "      <td>20190216</td>\n",
              "      <td>20500</td>\n",
              "    </tr>\n",
              "    <tr>\n",
              "      <th>...</th>\n",
              "      <td>...</td>\n",
              "      <td>...</td>\n",
              "      <td>...</td>\n",
              "      <td>...</td>\n",
              "      <td>...</td>\n",
              "    </tr>\n",
              "    <tr>\n",
              "      <th>191</th>\n",
              "      <td>7</td>\n",
              "      <td>6</td>\n",
              "      <td>0</td>\n",
              "      <td>20200503</td>\n",
              "      <td>20200</td>\n",
              "    </tr>\n",
              "    <tr>\n",
              "      <th>209</th>\n",
              "      <td>6</td>\n",
              "      <td>5</td>\n",
              "      <td>1</td>\n",
              "      <td>20200325</td>\n",
              "      <td>82000</td>\n",
              "    </tr>\n",
              "    <tr>\n",
              "      <th>203</th>\n",
              "      <td>6</td>\n",
              "      <td>2</td>\n",
              "      <td>4</td>\n",
              "      <td>20200810</td>\n",
              "      <td>91600</td>\n",
              "    </tr>\n",
              "    <tr>\n",
              "      <th>118</th>\n",
              "      <td>1</td>\n",
              "      <td>0</td>\n",
              "      <td>1</td>\n",
              "      <td>20200813</td>\n",
              "      <td>32700</td>\n",
              "    </tr>\n",
              "    <tr>\n",
              "      <th>174</th>\n",
              "      <td>7</td>\n",
              "      <td>9</td>\n",
              "      <td>6</td>\n",
              "      <td>20200227</td>\n",
              "      <td>75700</td>\n",
              "    </tr>\n",
              "  </tbody>\n",
              "</table>\n",
              "<p>68 rows × 5 columns</p>\n",
              "</div>"
            ],
            "text/plain": [
              "     account_id  marketplace_fee  ip_location      Data    Hora\n",
              "116           1                1            2  20201215  115400\n",
              "85            0               15            2  20200126   30700\n",
              "208           6                5            1  20200119  120600\n",
              "25            4                6            0  20190228   21900\n",
              "65            3               48            1  20190216   20500\n",
              "..          ...              ...          ...       ...     ...\n",
              "191           7                6            0  20200503   20200\n",
              "209           6                5            1  20200325   82000\n",
              "203           6                2            4  20200810   91600\n",
              "118           1                0            1  20200813   32700\n",
              "174           7                9            6  20200227   75700\n",
              "\n",
              "[68 rows x 5 columns]"
            ]
          },
          "metadata": {
            "tags": []
          },
          "execution_count": 126
        }
      ]
    },
    {
      "cell_type": "code",
      "metadata": {
        "id": "w7NZBB6TrZ8D"
      },
      "source": [
        "previsoes = modelo.predict(x_teste[1:229])"
      ],
      "execution_count": null,
      "outputs": []
    },
    {
      "cell_type": "code",
      "metadata": {
        "id": "bqsCE3B9rkvB",
        "outputId": "15cc62e6-8295-49a3-bc40-64422933d4c7",
        "colab": {
          "base_uri": "https://localhost:8080/",
          "height": 136
        }
      },
      "source": [
        "previsoes"
      ],
      "execution_count": null,
      "outputs": [
        {
          "output_type": "execute_result",
          "data": {
            "text/plain": [
              "array([ 160,  357,  300,  645,  768,  407,  993,  160,   86,  926,  312,\n",
              "         86,  862, 1193,  653,  964,  420,  879,   86,  736,  354,  210,\n",
              "        639,   65,  474,  128,  872,  862,   45,  862,  147,   67,  420,\n",
              "        350,  454,  645,  346,  807,   65,  877,  795,  872,  160,  420,\n",
              "        228, 2899,  394,   62,  665,  987,  832,   86,  348,  736,  653,\n",
              "        684,  595,  792,  346,  807,   86,  160, 1676,  645,  883,  228,\n",
              "         86,  454])"
            ]
          },
          "metadata": {
            "tags": []
          },
          "execution_count": 128
        }
      ]
    },
    {
      "cell_type": "markdown",
      "metadata": {
        "id": "EB5HgZzv1Dwv"
      },
      "source": [
        ">Concluimos que os dados de treino não foram capazes de prever com exatidão.  "
      ]
    },
    {
      "cell_type": "code",
      "metadata": {
        "id": "S3HGbQrf1IWf"
      },
      "source": [
        ""
      ],
      "execution_count": null,
      "outputs": []
    }
  ]
}